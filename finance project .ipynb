{
 "cells": [
  {
   "cell_type": "code",
   "execution_count": 1,
   "id": "ba32a132-982a-4898-bdae-331b21bc9259",
   "metadata": {},
   "outputs": [],
   "source": [
    "import pandas as pd\n",
    "import matplotlib.pyplot as plt\n",
    "import seaborn as sns"
   ]
  },
  {
   "cell_type": "code",
   "execution_count": 3,
   "id": "a6f92b67-eed6-4edb-b1f7-1842f1e391bc",
   "metadata": {},
   "outputs": [
    {
     "name": "stdout",
     "output_type": "stream",
     "text": [
      "<class 'pandas.core.frame.DataFrame'>\n",
      "RangeIndex: 563 entries, 0 to 562\n",
      "Data columns (total 9 columns):\n",
      " #   Column         Non-Null Count  Dtype         \n",
      "---  ------         --------------  -----         \n",
      " 0   Account        563 non-null    object        \n",
      " 1   Date           563 non-null    datetime64[ns]\n",
      " 2   Description    563 non-null    object        \n",
      " 3   Debit          563 non-null    float64       \n",
      " 4   Credit         563 non-null    float64       \n",
      " 5   Amount         563 non-null    float64       \n",
      " 6   Sub-category   563 non-null    object        \n",
      " 7   Category       563 non-null    object        \n",
      " 8   Category Type  563 non-null    object        \n",
      "dtypes: datetime64[ns](1), float64(3), object(5)\n",
      "memory usage: 39.7+ KB\n",
      "None\n"
     ]
    },
    {
     "name": "stderr",
     "output_type": "stream",
     "text": [
      "C:\\Users\\HP\\AppData\\Local\\Temp\\ipykernel_27380\\3787058974.py:10: FutureWarning: A value is trying to be set on a copy of a DataFrame or Series through chained assignment using an inplace method.\n",
      "The behavior will change in pandas 3.0. This inplace method will never work because the intermediate object on which we are setting values always behaves as a copy.\n",
      "\n",
      "For example, when doing 'df[col].method(value, inplace=True)', try using 'df.method({col: value}, inplace=True)' or df[col] = df[col].method(value) instead, to perform the operation inplace on the original object.\n",
      "\n",
      "\n",
      "  df['Debit'].fillna(0, inplace=True)\n",
      "C:\\Users\\HP\\AppData\\Local\\Temp\\ipykernel_27380\\3787058974.py:11: FutureWarning: A value is trying to be set on a copy of a DataFrame or Series through chained assignment using an inplace method.\n",
      "The behavior will change in pandas 3.0. This inplace method will never work because the intermediate object on which we are setting values always behaves as a copy.\n",
      "\n",
      "For example, when doing 'df[col].method(value, inplace=True)', try using 'df.method({col: value}, inplace=True)' or df[col] = df[col].method(value) instead, to perform the operation inplace on the original object.\n",
      "\n",
      "\n",
      "  df['Credit'].fillna(0, inplace=True)\n"
     ]
    }
   ],
   "source": [
    "import pandas as pd\n",
    "\n",
    "# Load the dataset\n",
    "df = pd.read_csv(r\"C:\\Users\\HP\\OneDrive\\Desktop\\Finance Expenses Data.xlsx - Data.csv\")\n",
    "\n",
    "# Convert 'Date' column to datetime format\n",
    "df['Date'] = pd.to_datetime(df['Date'], errors='coerce')\n",
    "\n",
    "# Fill missing values\n",
    "df['Debit'].fillna(0, inplace=True)\n",
    "df['Credit'].fillna(0, inplace=True)\n",
    "\n",
    "# Display dataset summary\n",
    "print(df.info())\n"
   ]
  },
  {
   "cell_type": "code",
   "execution_count": 6,
   "id": "1cef2a1d-1507-4a66-8dc7-f5e674e3dbc3",
   "metadata": {},
   "outputs": [
    {
     "data": {
      "text/plain": [
       "(563, 9)"
      ]
     },
     "execution_count": 6,
     "metadata": {},
     "output_type": "execute_result"
    }
   ],
   "source": [
    "df.shape"
   ]
  },
  {
   "cell_type": "code",
   "execution_count": 8,
   "id": "d065824b-b95d-472f-b2de-080f9c5c2672",
   "metadata": {},
   "outputs": [
    {
     "data": {
      "text/html": [
       "<div>\n",
       "<style scoped>\n",
       "    .dataframe tbody tr th:only-of-type {\n",
       "        vertical-align: middle;\n",
       "    }\n",
       "\n",
       "    .dataframe tbody tr th {\n",
       "        vertical-align: top;\n",
       "    }\n",
       "\n",
       "    .dataframe thead th {\n",
       "        text-align: right;\n",
       "    }\n",
       "</style>\n",
       "<table border=\"1\" class=\"dataframe\">\n",
       "  <thead>\n",
       "    <tr style=\"text-align: right;\">\n",
       "      <th></th>\n",
       "      <th>Account</th>\n",
       "      <th>Date</th>\n",
       "      <th>Description</th>\n",
       "      <th>Debit</th>\n",
       "      <th>Credit</th>\n",
       "      <th>Amount</th>\n",
       "      <th>Sub-category</th>\n",
       "      <th>Category</th>\n",
       "      <th>Category Type</th>\n",
       "    </tr>\n",
       "  </thead>\n",
       "  <tbody>\n",
       "    <tr>\n",
       "      <th>0</th>\n",
       "      <td>False</td>\n",
       "      <td>False</td>\n",
       "      <td>False</td>\n",
       "      <td>False</td>\n",
       "      <td>False</td>\n",
       "      <td>False</td>\n",
       "      <td>False</td>\n",
       "      <td>False</td>\n",
       "      <td>False</td>\n",
       "    </tr>\n",
       "    <tr>\n",
       "      <th>1</th>\n",
       "      <td>False</td>\n",
       "      <td>False</td>\n",
       "      <td>False</td>\n",
       "      <td>False</td>\n",
       "      <td>False</td>\n",
       "      <td>False</td>\n",
       "      <td>False</td>\n",
       "      <td>False</td>\n",
       "      <td>False</td>\n",
       "    </tr>\n",
       "    <tr>\n",
       "      <th>2</th>\n",
       "      <td>False</td>\n",
       "      <td>False</td>\n",
       "      <td>False</td>\n",
       "      <td>False</td>\n",
       "      <td>False</td>\n",
       "      <td>False</td>\n",
       "      <td>False</td>\n",
       "      <td>False</td>\n",
       "      <td>False</td>\n",
       "    </tr>\n",
       "    <tr>\n",
       "      <th>3</th>\n",
       "      <td>False</td>\n",
       "      <td>False</td>\n",
       "      <td>False</td>\n",
       "      <td>False</td>\n",
       "      <td>False</td>\n",
       "      <td>False</td>\n",
       "      <td>False</td>\n",
       "      <td>False</td>\n",
       "      <td>False</td>\n",
       "    </tr>\n",
       "    <tr>\n",
       "      <th>4</th>\n",
       "      <td>False</td>\n",
       "      <td>False</td>\n",
       "      <td>False</td>\n",
       "      <td>False</td>\n",
       "      <td>False</td>\n",
       "      <td>False</td>\n",
       "      <td>False</td>\n",
       "      <td>False</td>\n",
       "      <td>False</td>\n",
       "    </tr>\n",
       "    <tr>\n",
       "      <th>...</th>\n",
       "      <td>...</td>\n",
       "      <td>...</td>\n",
       "      <td>...</td>\n",
       "      <td>...</td>\n",
       "      <td>...</td>\n",
       "      <td>...</td>\n",
       "      <td>...</td>\n",
       "      <td>...</td>\n",
       "      <td>...</td>\n",
       "    </tr>\n",
       "    <tr>\n",
       "      <th>558</th>\n",
       "      <td>False</td>\n",
       "      <td>False</td>\n",
       "      <td>False</td>\n",
       "      <td>False</td>\n",
       "      <td>False</td>\n",
       "      <td>False</td>\n",
       "      <td>False</td>\n",
       "      <td>False</td>\n",
       "      <td>False</td>\n",
       "    </tr>\n",
       "    <tr>\n",
       "      <th>559</th>\n",
       "      <td>False</td>\n",
       "      <td>False</td>\n",
       "      <td>False</td>\n",
       "      <td>False</td>\n",
       "      <td>False</td>\n",
       "      <td>False</td>\n",
       "      <td>False</td>\n",
       "      <td>False</td>\n",
       "      <td>False</td>\n",
       "    </tr>\n",
       "    <tr>\n",
       "      <th>560</th>\n",
       "      <td>False</td>\n",
       "      <td>False</td>\n",
       "      <td>False</td>\n",
       "      <td>False</td>\n",
       "      <td>False</td>\n",
       "      <td>False</td>\n",
       "      <td>False</td>\n",
       "      <td>False</td>\n",
       "      <td>False</td>\n",
       "    </tr>\n",
       "    <tr>\n",
       "      <th>561</th>\n",
       "      <td>False</td>\n",
       "      <td>False</td>\n",
       "      <td>False</td>\n",
       "      <td>False</td>\n",
       "      <td>False</td>\n",
       "      <td>False</td>\n",
       "      <td>False</td>\n",
       "      <td>False</td>\n",
       "      <td>False</td>\n",
       "    </tr>\n",
       "    <tr>\n",
       "      <th>562</th>\n",
       "      <td>False</td>\n",
       "      <td>False</td>\n",
       "      <td>False</td>\n",
       "      <td>False</td>\n",
       "      <td>False</td>\n",
       "      <td>False</td>\n",
       "      <td>False</td>\n",
       "      <td>False</td>\n",
       "      <td>False</td>\n",
       "    </tr>\n",
       "  </tbody>\n",
       "</table>\n",
       "<p>563 rows × 9 columns</p>\n",
       "</div>"
      ],
      "text/plain": [
       "     Account   Date  Description  Debit  Credit  Amount  Sub-category  \\\n",
       "0      False  False        False  False   False   False         False   \n",
       "1      False  False        False  False   False   False         False   \n",
       "2      False  False        False  False   False   False         False   \n",
       "3      False  False        False  False   False   False         False   \n",
       "4      False  False        False  False   False   False         False   \n",
       "..       ...    ...          ...    ...     ...     ...           ...   \n",
       "558    False  False        False  False   False   False         False   \n",
       "559    False  False        False  False   False   False         False   \n",
       "560    False  False        False  False   False   False         False   \n",
       "561    False  False        False  False   False   False         False   \n",
       "562    False  False        False  False   False   False         False   \n",
       "\n",
       "     Category  Category Type  \n",
       "0       False          False  \n",
       "1       False          False  \n",
       "2       False          False  \n",
       "3       False          False  \n",
       "4       False          False  \n",
       "..        ...            ...  \n",
       "558     False          False  \n",
       "559     False          False  \n",
       "560     False          False  \n",
       "561     False          False  \n",
       "562     False          False  \n",
       "\n",
       "[563 rows x 9 columns]"
      ]
     },
     "execution_count": 8,
     "metadata": {},
     "output_type": "execute_result"
    }
   ],
   "source": [
    "df.isnull( )"
   ]
  },
  {
   "cell_type": "code",
   "execution_count": 10,
   "id": "89b9f4d9-4fe5-4376-8471-efbac7132e3d",
   "metadata": {},
   "outputs": [
    {
     "name": "stdout",
     "output_type": "stream",
     "text": [
      "<class 'pandas.core.frame.DataFrame'>\n",
      "RangeIndex: 563 entries, 0 to 562\n",
      "Data columns (total 9 columns):\n",
      " #   Column         Non-Null Count  Dtype         \n",
      "---  ------         --------------  -----         \n",
      " 0   Account        563 non-null    object        \n",
      " 1   Date           563 non-null    datetime64[ns]\n",
      " 2   Description    563 non-null    object        \n",
      " 3   Debit          563 non-null    float64       \n",
      " 4   Credit         563 non-null    float64       \n",
      " 5   Amount         563 non-null    float64       \n",
      " 6   Sub-category   563 non-null    object        \n",
      " 7   Category       563 non-null    object        \n",
      " 8   Category Type  563 non-null    object        \n",
      "dtypes: datetime64[ns](1), float64(3), object(5)\n",
      "memory usage: 39.7+ KB\n"
     ]
    }
   ],
   "source": [
    "# Try reading the file to inspect its structure    # Display basic info and first few rows\n",
    "df_info = df.info()"
   ]
  },
  {
   "cell_type": "code",
   "execution_count": 12,
   "id": "9cd68e72-b14d-4574-bcc7-8e4fcdeff22c",
   "metadata": {},
   "outputs": [
    {
     "data": {
      "text/plain": [
       "<bound method NDFrame.head of       Account       Date    Description  Debit  Credit  Amount   Sub-category  \\\n",
       "0    Checking 2021-01-04   ACME Pty Ltd    0.0  4000.0  4000.0         Salary   \n",
       "1      Credit 2021-01-04         Ground    5.0     0.0    -5.0         Coffee   \n",
       "2    Checking 2021-01-05    Estate Mgt.  900.0     0.0  -900.0           Rent   \n",
       "3    Checking 2021-01-05    Finance Co.  150.0     0.0  -150.0  Entertainment   \n",
       "4      Credit 2021-01-05         Ground    5.0     0.0    -5.0         Coffee   \n",
       "..        ...        ...            ...    ...     ...     ...            ...   \n",
       "558    Credit 2021-12-27         Ground    5.0     0.0    -5.0         Coffee   \n",
       "559  Checking 2021-12-28      Phone Co.   40.0     0.0   -40.0          Phone   \n",
       "560    Credit 2021-12-29  Streaming Co.   35.0     0.0   -35.0  Entertainment   \n",
       "561    Credit 2021-12-30         Ground    5.0     0.0    -5.0         Coffee   \n",
       "562    Credit 2021-12-31         Ground    5.0     0.0    -5.0         Coffee   \n",
       "\n",
       "            Category Category Type  \n",
       "0             Salary        Income  \n",
       "1         Dining Out       Expense  \n",
       "2    Living Expenses       Expense  \n",
       "3          Transport       Expense  \n",
       "4         Dining Out       Expense  \n",
       "..               ...           ...  \n",
       "558       Dining Out       Expense  \n",
       "559  Living Expenses       Expense  \n",
       "560    Discretionary       Expense  \n",
       "561       Dining Out       Expense  \n",
       "562       Dining Out       Expense  \n",
       "\n",
       "[563 rows x 9 columns]>"
      ]
     },
     "execution_count": 12,
     "metadata": {},
     "output_type": "execute_result"
    }
   ],
   "source": [
    "df.head"
   ]
  },
  {
   "cell_type": "code",
   "execution_count": 14,
   "id": "3f15e872-7025-46ed-88c0-dcf819106fb7",
   "metadata": {},
   "outputs": [
    {
     "data": {
      "image/png": "[encoded data removed]",
      "text/plain": [
       "<Figure size 1000x500 with 1 Axes>"
      ]
     },
     "metadata": {},
     "output_type": "display_data"
    }
   ],
   "source": [
    "# Aggregate total expenses per category\n",
    "expense_by_category = df[df['Category Type'] == 'Expense'].groupby('Category')['Amount'].sum()\n",
    "\n",
    "# Plot top expenses\n",
    "plt.figure(figsize=(10,5))\n",
    "expense_by_category.sort_values().plot(kind='barh', color='red')\n",
    "plt.title(\"Total Expenses by Category\")\n",
    "plt.xlabel(\"Amount Spent\")\n",
    "plt.ylabel(\"Category\")\n",
    "plt.show()\n"
   ]
  },
  {
   "cell_type": "code",
   "execution_count": 16,
   "id": "6b17be23-6aa8-4366-8e27-732b07384906",
   "metadata": {},
   "outputs": [
    {
     "data": {
      "image/png": "[encoded data removed]",
      "text/plain": [
       "<Figure size 1000x500 with 1 Axes>"
      ]
     },
     "metadata": {},
     "output_type": "display_data"
    }
   ],
   "source": [
    "df['Month'] = df['Date'].dt.to_period('M')\n",
    "\n",
    "# Aggregate expenses per month\n",
    "monthly_expenses = df[df['Category Type'] == 'Expense'].groupby('Month')['Amount'].sum()\n",
    "\n",
    "# Plot trend\n",
    "plt.figure(figsize=(10,5))\n",
    "monthly_expenses.plot(marker='o', linestyle='-')\n",
    "plt.title(\"Monthly Expense Trend\")\n",
    "plt.xlabel(\"Month\")\n",
    "plt.ylabel(\"Total Expenses\")\n",
    "plt.grid(True)\n",
    "plt.show()\n"
   ]
  },
  {
   "cell_type": "code",
   "execution_count": 18,
   "id": "f3a88ec3-5f69-40e1-8efa-c6bab040ed09",
   "metadata": {},
   "outputs": [
    {
     "data": {
      "image/png": "[encoded data removed]",
      "text/plain": [
       "<Figure size 600x600 with 1 Axes>"
      ]
     },
     "metadata": {},
     "output_type": "display_data"
    }
   ],
   "source": [
    "# Aggregate total income and expenses\n",
    "income = df[df['Category Type'] == 'Income']['Amount'].sum()\n",
    "expenses = df[df['Category Type'] == 'Expense']['Amount'].sum()\n",
    "\n",
    "# Plot\n",
    "plt.figure(figsize=(6,6))\n",
    "plt.pie([income, abs(expenses)], labels=['Income', 'Expenses'], autopct='%1.1f%%', colors=['green', 'red'])\n",
    "plt.title(\"Income vs Expenses\")\n",
    "plt.show()\n"
   ]
  },
  {
   "cell_type": "code",
   "execution_count": null,
   "id": "7db2451c-5828-4d3d-bcee-525500ebb6d1",
   "metadata": {},
   "outputs": [],
   "source": []
  },
  {
   "cell_type": "code",
   "execution_count": null,
   "id": "b35423dc-a62b-490f-92f8-dd4f4a3c5b32",
   "metadata": {},
   "outputs": [],
   "source": []
  },
  {
   "cell_type": "code",
   "execution_count": null,
   "id": "a2b061a7-8b3a-4730-9114-1ad494e0ee6c",
   "metadata": {},
   "outputs": [],
   "source": []
  },
  {
   "cell_type": "code",
   "execution_count": null,
   "id": "2c74aa5b-ebef-4004-9aa1-aab2a6b09ccc",
   "metadata": {},
   "outputs": [],
   "source": []
  },
  {
   "cell_type": "code",
   "execution_count": null,
   "id": "c5a7ec23-21c8-4b07-b832-abac51d75810",
   "metadata": {},
   "outputs": [],
   "source": []
  },
  {
   "cell_type": "code",
   "execution_count": null,
   "id": "3ec54fa1-c8cb-43d5-a91b-2a7c5d6d78a0",
   "metadata": {},
   "outputs": [],
   "source": []
  },
  {
   "cell_type": "code",
   "execution_count": null,
   "id": "ce9646bb-9111-4c80-8988-748a888955fd",
   "metadata": {},
   "outputs": [],
   "source": []
  },
  {
   "cell_type": "code",
   "execution_count": null,
   "id": "bab192c2-d197-4f7b-ad0c-249340eb4b20",
   "metadata": {},
   "outputs": [],
   "source": []
  },
  {
   "cell_type": "code",
   "execution_count": null,
   "id": "beeb1f3c-03eb-4806-bfc2-34b3b9f89ac0",
   "metadata": {},
   "outputs": [],
   "source": []
  },
  {
   "cell_type": "code",
   "execution_count": null,
   "id": "92c72b4d-1ffc-43f2-ab43-3048db16d19c",
   "metadata": {},
   "outputs": [],
   "source": []
  },
  {
   "cell_type": "code",
   "execution_count": null,
   "id": "d6e4832e-3c16-4a14-bc89-734f1aaf7bf7",
   "metadata": {},
   "outputs": [],
   "source": []
  },
  {
   "cell_type": "code",
   "execution_count": null,
   "id": "c275ef56-f8b7-4ed6-b16c-93a1ae355b50",
   "metadata": {},
   "outputs": [],
   "source": []
  },
  {
   "cell_type": "code",
   "execution_count": null,
   "id": "688d8684-7139-4640-a9af-9adfb82470ad",
   "metadata": {},
   "outputs": [],
   "source": []
  },
  {
   "cell_type": "code",
   "execution_count": null,
   "id": "dc24f27e-ad3b-4a67-9ebc-8afec197c820",
   "metadata": {},
   "outputs": [],
   "source": []
  },
  {
   "cell_type": "code",
   "execution_count": null,
   "id": "0a70e35e-353d-475b-8ead-1eeea0e8fc27",
   "metadata": {},
   "outputs": [],
   "source": []
  },
  {
   "cell_type": "code",
   "execution_count": null,
   "id": "df34ef06-f0a9-4409-8fda-9c49f3bd818f",
   "metadata": {},
   "outputs": [],
   "source": []
  },
  {
   "cell_type": "code",
   "execution_count": null,
   "id": "681d5231-ec23-431a-b971-80710f4f74ad",
   "metadata": {},
   "outputs": [],
   "source": []
  },
  {
   "cell_type": "code",
   "execution_count": null,
   "id": "3f077cec-4443-4f59-913d-8605195f9486",
   "metadata": {},
   "outputs": [],
   "source": []
  },
  {
   "cell_type": "code",
   "execution_count": null,
   "id": "4788c901-a857-4050-ba94-762744258f80",
   "metadata": {},
   "outputs": [],
   "source": []
  },
  {
   "cell_type": "code",
   "execution_count": null,
   "id": "7a7dadab-31c8-45ce-abfc-de506baa5da8",
   "metadata": {},
   "outputs": [],
   "source": []
  },
  {
   "cell_type": "code",
   "execution_count": null,
   "id": "ca826b12-fed4-4849-97c4-5745e1026a7d",
   "metadata": {},
   "outputs": [],
   "source": []
  },
  {
   "cell_type": "code",
   "execution_count": null,
   "id": "7cd36c03-20cb-4c8b-b67d-d68d5608d3f6",
   "metadata": {},
   "outputs": [],
   "source": []
  },
  {
   "cell_type": "code",
   "execution_count": null,
   "id": "6553d1ef-a4d1-472a-b2d7-15260caa0775",
   "metadata": {},
   "outputs": [],
   "source": []
  },
  {
   "cell_type": "code",
   "execution_count": null,
   "id": "0b4aaec4-6c2c-44da-94c5-15982dc71f9e",
   "metadata": {},
   "outputs": [],
   "source": []
  },
  {
   "cell_type": "code",
   "execution_count": null,
   "id": "1cd261f0-99ef-4b60-9052-4626ad4c66f6",
   "metadata": {},
   "outputs": [],
   "source": []
  },
  {
   "cell_type": "code",
   "execution_count": null,
   "id": "89a9dcba-abb9-4c38-9790-3797cbbd0727",
   "metadata": {},
   "outputs": [],
   "source": []
  },
  {
   "cell_type": "code",
   "execution_count": null,
   "id": "af189048-65d5-4f43-af58-15e0d736f0ab",
   "metadata": {},
   "outputs": [],
   "source": []
  },
  {
   "cell_type": "code",
   "execution_count": null,
   "id": "fb728c9a-352b-4a3f-8231-7028138325b2",
   "metadata": {},
   "outputs": [],
   "source": []
  },
  {
   "cell_type": "code",
   "execution_count": null,
   "id": "11b60760-9b7f-4754-b725-ba0e46cc8c2f",
   "metadata": {},
   "outputs": [],
   "source": []
  },
  {
   "cell_type": "code",
   "execution_count": null,
   "id": "3031cb43-7b0e-4b9a-84d7-57e4c2bc3b0f",
   "metadata": {},
   "outputs": [],
   "source": []
  },
  {
   "cell_type": "code",
   "execution_count": null,
   "id": "461c2d94-2a5c-4a42-a951-9eab3cac6796",
   "metadata": {},
   "outputs": [],
   "source": []
  },
  {
   "cell_type": "code",
   "execution_count": null,
   "id": "2b9d962d-7321-4c35-9128-d2bdd25c018f",
   "metadata": {},
   "outputs": [],
   "source": []
  },
  {
   "cell_type": "code",
   "execution_count": null,
   "id": "39702498-50c1-4077-8965-76fcef52ce6e",
   "metadata": {},
   "outputs": [],
   "source": []
  },
  {
   "cell_type": "code",
   "execution_count": null,
   "id": "564dfd55-16c2-4e11-aa47-e3d7c3289f51",
   "metadata": {},
   "outputs": [],
   "source": []
  },
  {
   "cell_type": "code",
   "execution_count": null,
   "id": "410ac221-f1f7-4121-a4bf-e5f7bd1b6a1b",
   "metadata": {},
   "outputs": [],
   "source": []
  },
  {
   "cell_type": "code",
   "execution_count": null,
   "id": "852e184d-279f-4f2f-9ad1-347a78bb8f31",
   "metadata": {},
   "outputs": [],
   "source": []
  },
  {
   "cell_type": "code",
   "execution_count": null,
   "id": "159fac9f-88c0-4886-a860-a4846cc31e29",
   "metadata": {},
   "outputs": [],
   "source": []
  },
  {
   "cell_type": "code",
   "execution_count": null,
   "id": "213a620d-a2db-4bf5-ae95-e6fd9cc43039",
   "metadata": {},
   "outputs": [],
   "source": []
  },
  {
   "cell_type": "code",
   "execution_count": null,
   "id": "bb6dff59-9a8f-4a4b-9c03-02c2cd568819",
   "metadata": {},
   "outputs": [],
   "source": []
  },
  {
   "cell_type": "code",
   "execution_count": null,
   "id": "d8747087-48d2-4784-90fb-aabf9ccafcf4",
   "metadata": {},
   "outputs": [],
   "source": []
  },
  {
   "cell_type": "code",
   "execution_count": null,
   "id": "e4418485-67a3-4a57-9d26-e4a0a69627e6",
   "metadata": {},
   "outputs": [],
   "source": []
  },
  {
   "cell_type": "code",
   "execution_count": null,
   "id": "1bce8a70-ec29-4587-a0e3-3e6c9e083727",
   "metadata": {},
   "outputs": [],
   "source": []
  },
  {
   "cell_type": "code",
   "execution_count": null,
   "id": "27650e19-62b3-4dfa-9d2b-816906b89d19",
   "metadata": {},
   "outputs": [],
   "source": []
  },
  {
   "cell_type": "code",
   "execution_count": null,
   "id": "0c5fbe10-aa38-4aa7-b30c-bb2652f2f3cd",
   "metadata": {},
   "outputs": [],
   "source": []
  }
 ],
 "metadata": {
  "kernelspec": {
   "display_name": "Python [conda env:base] *",
   "language": "python",
   "name": "conda-base-py"
  },
  "language_info": {
   "codemirror_mode": {
    "name": "ipython",
    "version": 3
   },
   "file_extension": ".py",
   "mimetype": "text/x-python",
   "name": "python",
   "nbconvert_exporter": "python",
   "pygments_lexer": "ipython3",
   "version": "3.12.7"
  }
 },
 "nbformat": 4,
 "nbformat_minor": 5
}
